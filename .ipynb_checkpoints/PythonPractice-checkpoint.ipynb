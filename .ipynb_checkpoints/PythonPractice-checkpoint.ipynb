{
 "cells": [
  {
   "cell_type": "code",
   "execution_count": 1,
   "metadata": {},
   "outputs": [
    {
     "name": "stdout",
     "output_type": "stream",
     "text": [
      "Hello World\n"
     ]
    }
   ],
   "source": [
    "print(\"Hello World\")"
   ]
  },
  {
   "cell_type": "code",
   "execution_count": 2,
   "metadata": {},
   "outputs": [
    {
     "name": "stdout",
     "output_type": "stream",
     "text": [
      "Enter your name : sachin yadav\n",
      "Welcome sachin yadav to the world of python.\n"
     ]
    }
   ],
   "source": [
    "name = input(\"Enter your name : \")\n",
    "print(f\"Welcome {name} to the world of python.\")"
   ]
  },
  {
   "cell_type": "code",
   "execution_count": 3,
   "metadata": {},
   "outputs": [
    {
     "data": {
      "text/plain": [
       "11"
      ]
     },
     "execution_count": 3,
     "metadata": {},
     "output_type": "execute_result"
    }
   ],
   "source": [
    "5 + 6"
   ]
  },
  {
   "cell_type": "code",
   "execution_count": 4,
   "metadata": {},
   "outputs": [
    {
     "data": {
      "text/plain": [
       "1.0"
      ]
     },
     "execution_count": 4,
     "metadata": {},
     "output_type": "execute_result"
    }
   ],
   "source": [
    "5 / 5"
   ]
  },
  {
   "cell_type": "code",
   "execution_count": 5,
   "metadata": {},
   "outputs": [
    {
     "data": {
      "text/plain": [
       "25"
      ]
     },
     "execution_count": 5,
     "metadata": {},
     "output_type": "execute_result"
    }
   ],
   "source": [
    "5 * 5\n"
   ]
  },
  {
   "cell_type": "code",
   "execution_count": 6,
   "metadata": {},
   "outputs": [
    {
     "data": {
      "text/plain": [
       "True"
      ]
     },
     "execution_count": 6,
     "metadata": {},
     "output_type": "execute_result"
    }
   ],
   "source": [
    "True and True"
   ]
  },
  {
   "cell_type": "code",
   "execution_count": 7,
   "metadata": {},
   "outputs": [
    {
     "data": {
      "text/plain": [
       "True"
      ]
     },
     "execution_count": 7,
     "metadata": {},
     "output_type": "execute_result"
    }
   ],
   "source": [
    "4 > 5 or 6 < 7"
   ]
  },
  {
   "cell_type": "markdown",
   "metadata": {},
   "source": [
    "{} --> ? \n",
    "\n",
    "; --> statement termination "
   ]
  },
  {
   "cell_type": "code",
   "execution_count": 8,
   "metadata": {},
   "outputs": [
    {
     "name": "stdout",
     "output_type": "stream",
     "text": [
      "10\n",
      "20\n"
     ]
    }
   ],
   "source": [
    "#each line in python is a statement\n",
    "x = 10\n",
    "y = 20\n",
    "print(x)\n",
    "print(y)"
   ]
  },
  {
   "cell_type": "code",
   "execution_count": 9,
   "metadata": {},
   "outputs": [
    {
     "name": "stdout",
     "output_type": "stream",
     "text": [
      "10 20\n"
     ]
    }
   ],
   "source": [
    "x = 10; y = 20\n",
    "print(x, y)"
   ]
  },
  {
   "cell_type": "code",
   "execution_count": 10,
   "metadata": {},
   "outputs": [
    {
     "name": "stdout",
     "output_type": "stream",
     "text": [
      "10\n",
      "20\n"
     ]
    }
   ],
   "source": [
    "x,y = 10, 20\n",
    "print(x, y, sep='\\n')"
   ]
  },
  {
   "cell_type": "markdown",
   "metadata": {},
   "source": [
    "{} --> block of statement"
   ]
  },
  {
   "cell_type": "raw",
   "metadata": {},
   "source": [
    "#include<stdio.h>\n",
    "void main(){\n",
    "if(foo){\n",
    "baz(); hi();\n",
    "    if (bar){\n",
    "        some();}\n",
    " else{\n",
    " do_something();\n",
    " hi();\n",
    " }}\n",
    " "
   ]
  },
  {
   "cell_type": "raw",
   "metadata": {},
   "source": [
    "if foo:\n",
    "    baz()\n",
    "    hi()\n",
    "    if bar:\n",
    "        some()\n",
    "    else:\n",
    "        do_something()\n",
    "        hi()"
   ]
  },
  {
   "cell_type": "markdown",
   "metadata": {},
   "source": [
    "#### loan prediction\n",
    "\n",
    "**step1** job type\n",
    "    \n",
    "    gov --> submit your docuemnt we will process loan\n",
    "    \n",
    "    private --> nikal phali fursat mili\n",
    "    \n",
    "    business --> \n",
    "        turnover \n",
    "                if turnover > 2000000\n",
    "                    we can process for loan approval\n",
    "                else\n",
    "                    sorry you are not applicable for loan"
   ]
  },
  {
   "cell_type": "code",
   "execution_count": 15,
   "metadata": {},
   "outputs": [
    {
     "name": "stdout",
     "output_type": "stream",
     "text": [
      "Job Type(gov, private, business): meri khud ki job hai\n",
      "konse gola se aaya ho bhaya\n"
     ]
    }
   ],
   "source": [
    "job_type = input(\"Job Type(gov, private, business): \")\n",
    "if job_type == 'gov':\n",
    "    print(\"Submit your documents we will process for loan\")\n",
    "elif job_type == 'private':\n",
    "    print(\"Nikal phli fursat main\")\n",
    "elif job_type == 'business':\n",
    "    turn_over = int(input(\"Trun over: \"))\n",
    "    if turn_over >= 2000000:\n",
    "        print(\"We can process for loan approval\")\n",
    "    else:\n",
    "        print(\"Sorry you are not appplicable for loan\")\n",
    "else:\n",
    "    print(\"konse gola se aaya ho bhaya\")"
   ]
  },
  {
   "cell_type": "code",
   "execution_count": 18,
   "metadata": {},
   "outputs": [
    {
     "name": "stdout",
     "output_type": "stream",
     "text": [
      "1\n",
      "2\n",
      "3\n",
      "4\n",
      "5\n"
     ]
    }
   ],
   "source": [
    "c = 1\n",
    "while c <= 10:\n",
    "    print(c)\n",
    "    if c == 5:\n",
    "        break\n",
    "    c = c + 1\n",
    "else:\n",
    "    print(\"i will run if loop exectues sucessfully\")"
   ]
  },
  {
   "cell_type": "code",
   "execution_count": 21,
   "metadata": {},
   "outputs": [
    {
     "name": "stdout",
     "output_type": "stream",
     "text": [
      "3\n",
      "5\n",
      "7\n",
      "9\n",
      "11\n",
      "i will run if loop exectues sucessfully\n"
     ]
    }
   ],
   "source": [
    "c = 1\n",
    "while c <= 10:\n",
    "    c = c + 1\n",
    "    if c % 2 == 0:\n",
    "        continue\n",
    "    print(c)\n",
    "    \n",
    "else:\n",
    "    print(\"i will run if loop exectues sucessfully\")"
   ]
  },
  {
   "cell_type": "code",
   "execution_count": 28,
   "metadata": {},
   "outputs": [
    {
     "data": {
      "text/plain": [
       "21"
      ]
     },
     "execution_count": 28,
     "metadata": {},
     "output_type": "execute_result"
    }
   ],
   "source": [
    "#random num? \n",
    "import random\n",
    "\n",
    "random.randint(1, 50)"
   ]
  },
  {
   "cell_type": "markdown",
   "metadata": {},
   "source": [
    "#### guess game \n",
    "\n",
    "    computer will guess a random number between 1-50\n",
    "    \n",
    "    user will get 5 chances to guess what number computer has guessed\n",
    "    \n",
    "    for each wrong answer user will get a hint\n",
    "        either user's number is high or low\n",
    "        \n",
    "        if user wins stop your program and print you have won the game\n",
    "        \n",
    "    if user has used all of his chances and failed to guess number than\n",
    "    print you such a looser\n",
    "    \n",
    "    if user guess is outside the range 1-50 user chances should not be void"
   ]
  },
  {
   "cell_type": "code",
   "execution_count": 30,
   "metadata": {},
   "outputs": [
    {
     "name": "stdout",
     "output_type": "stream",
     "text": [
      "You have left: 5\n",
      "Enter your guess(1-50): 123232\n",
      "Error!!!! Mind your guess between 1-50\n",
      "You have left: 5\n",
      "Enter your guess(1-50): 40\n",
      "\n",
      "hint: Your guess is high Think lower number\n",
      "You have left: 4\n",
      "Enter your guess(1-50): 30\n",
      "\n",
      "hint: Your guess is high Think lower number\n",
      "You have left: 3\n",
      "Enter your guess(1-50): 20\n",
      "\n",
      "hint: Your guess is low Think a higher number\n",
      "You have left: 2\n",
      "Enter your guess(1-50): 25\n",
      "\n",
      "hint: Your guess is high Think lower number\n",
      "You have left: 1\n",
      "Enter your guess(1-50): 21\n",
      "\n",
      "hint: Your guess is low Think a higher number\n",
      "\n",
      "\n",
      "Computer guess was :  23\n",
      "Shame on You!!! You such a looser\n"
     ]
    }
   ],
   "source": [
    "com = random.randint(1, 50)\n",
    "chance = 1\n",
    "while chance <= 5:\n",
    "    print(f\"You have left: {6-chance}\")\n",
    "    user = int(input(\"Enter your guess(1-50): \"))\n",
    "    if user < 1 or user > 50:\n",
    "        print(\"Error!!!! Mind your guess between 1-50\")\n",
    "        continue\n",
    "    if user > com:\n",
    "        print(\"\\nhint: Your guess is high Think lower number\")\n",
    "    elif user < com:\n",
    "        print(\"\\nhint: Your guess is low Think a higher number\")\n",
    "    else:\n",
    "        print(\"\\n\\nWoooo!!! You such a master!!!!you have guess correctly\")\n",
    "        break\n",
    "    chance += 1\n",
    "else:\n",
    "    print(\"\\n\\nComputer guess was : \", com)\n",
    "    print(\"Shame on You!!! You such a looser\")"
   ]
  },
  {
   "cell_type": "code",
   "execution_count": 32,
   "metadata": {},
   "outputs": [
    {
     "name": "stdout",
     "output_type": "stream",
     "text": [
      "Enter a number: 5\n",
      "5x1= 5\n",
      "5x2= 10\n",
      "5x3= 15\n",
      "5x4= 20\n",
      "5x5= 25\n",
      "5x6= 30\n",
      "5x7= 35\n",
      "5x8= 40\n",
      "5x9= 45\n",
      "5x10= 50\n"
     ]
    }
   ],
   "source": [
    "num = int(input(\"Enter a number: \"))\n",
    "for i in range(1, 11):# range(1, 11) --> 1, 2, 3, 4....10\n",
    "    print(f\"{num}x{i}= {num*i}\")"
   ]
  },
  {
   "cell_type": "raw",
   "metadata": {},
   "source": [
    "x = 5;\n",
    "printf(\"x = %d\",(x)) # string formating"
   ]
  },
  {
   "cell_type": "code",
   "execution_count": 37,
   "metadata": {},
   "outputs": [
    {
     "name": "stdout",
     "output_type": "stream",
     "text": [
      "x = 5\n",
      "x = 5\n",
      "x = 5\n"
     ]
    }
   ],
   "source": [
    "x = 5;\n",
    "print(\"x = %d\"%(x))\n",
    "print(\"x = {}\".format(x))\n",
    "print(f\"x = {x}\")"
   ]
  },
  {
   "cell_type": "code",
   "execution_count": 34,
   "metadata": {},
   "outputs": [
    {
     "data": {
      "text/plain": [
       "'sachin sachin sachin sachin sachin sachin sachin sachin sachin sachin '"
      ]
     },
     "execution_count": 34,
     "metadata": {},
     "output_type": "execute_result"
    }
   ],
   "source": [
    "\"sachin \"*10 # replication"
   ]
  },
  {
   "cell_type": "code",
   "execution_count": 38,
   "metadata": {},
   "outputs": [
    {
     "name": "stdout",
     "output_type": "stream",
     "text": [
      "*\n",
      "**\n",
      "***\n",
      "****\n",
      "*****\n",
      "******\n",
      "*******\n",
      "********\n",
      "*********\n",
      "**********\n"
     ]
    }
   ],
   "source": [
    "for i in range(1, 11):\n",
    "    print(\"*\"*i)# 1 *, 2 **, 3 ***, 4 *****\n"
   ]
  },
  {
   "cell_type": "code",
   "execution_count": 39,
   "metadata": {},
   "outputs": [
    {
     "name": "stdout",
     "output_type": "stream",
     "text": [
      "          *\n",
      "         **\n",
      "        ***\n",
      "       ****\n",
      "      *****\n",
      "     ******\n",
      "    *******\n",
      "   ********\n",
      "  *********\n",
      " **********\n"
     ]
    }
   ],
   "source": [
    "for i in range(1, 11):\n",
    "    print(\" \"*(10-i), \"*\"*i)# i=1, \" \"*(9), \"*\"*1"
   ]
  },
  {
   "cell_type": "code",
   "execution_count": 40,
   "metadata": {},
   "outputs": [],
   "source": [
    "arr  = [ 'java', 'c', 'c++', 'ruby'] # list"
   ]
  },
  {
   "cell_type": "code",
   "execution_count": 41,
   "metadata": {},
   "outputs": [
    {
     "data": {
      "text/plain": [
       "'java'"
      ]
     },
     "execution_count": 41,
     "metadata": {},
     "output_type": "execute_result"
    }
   ],
   "source": [
    "arr[0]"
   ]
  },
  {
   "cell_type": "code",
   "execution_count": 42,
   "metadata": {},
   "outputs": [
    {
     "data": {
      "text/plain": [
       "'c'"
      ]
     },
     "execution_count": 42,
     "metadata": {},
     "output_type": "execute_result"
    }
   ],
   "source": [
    "arr[1]"
   ]
  },
  {
   "cell_type": "code",
   "execution_count": 43,
   "metadata": {},
   "outputs": [],
   "source": [
    "arr.append('python')"
   ]
  },
  {
   "cell_type": "code",
   "execution_count": 44,
   "metadata": {},
   "outputs": [
    {
     "data": {
      "text/plain": [
       "['java', 'c', 'c++', 'ruby', 'python']"
      ]
     },
     "execution_count": 44,
     "metadata": {},
     "output_type": "execute_result"
    }
   ],
   "source": [
    "arr"
   ]
  },
  {
   "cell_type": "code",
   "execution_count": 45,
   "metadata": {},
   "outputs": [],
   "source": [
    "arr.remove('c')"
   ]
  },
  {
   "cell_type": "code",
   "execution_count": 46,
   "metadata": {},
   "outputs": [
    {
     "data": {
      "text/plain": [
       "['java', 'c++', 'ruby', 'python']"
      ]
     },
     "execution_count": 46,
     "metadata": {},
     "output_type": "execute_result"
    }
   ],
   "source": [
    "arr"
   ]
  },
  {
   "cell_type": "code",
   "execution_count": 47,
   "metadata": {},
   "outputs": [],
   "source": [
    "arr.sort()"
   ]
  },
  {
   "cell_type": "code",
   "execution_count": 48,
   "metadata": {},
   "outputs": [
    {
     "data": {
      "text/plain": [
       "['c++', 'java', 'python', 'ruby']"
      ]
     },
     "execution_count": 48,
     "metadata": {},
     "output_type": "execute_result"
    }
   ],
   "source": [
    "arr"
   ]
  },
  {
   "cell_type": "code",
   "execution_count": 49,
   "metadata": {},
   "outputs": [
    {
     "data": {
      "text/plain": [
       "['c++', 'java', 'python', 'ruby']"
      ]
     },
     "execution_count": 49,
     "metadata": {},
     "output_type": "execute_result"
    }
   ],
   "source": [
    "arr"
   ]
  },
  {
   "cell_type": "code",
   "execution_count": 50,
   "metadata": {},
   "outputs": [
    {
     "name": "stdout",
     "output_type": "stream",
     "text": [
      "c++\n",
      "java\n",
      "python\n",
      "ruby\n"
     ]
    }
   ],
   "source": [
    "for item in arr:\n",
    "    print(item)"
   ]
  },
  {
   "cell_type": "code",
   "execution_count": 51,
   "metadata": {},
   "outputs": [],
   "source": [
    "one = [ 1, 2, 3, 4, 5, 6]\n",
    "two = [ 'one', 'two', 'three', 'four', 'five', 'six']"
   ]
  },
  {
   "cell_type": "code",
   "execution_count": 52,
   "metadata": {},
   "outputs": [
    {
     "name": "stdout",
     "output_type": "stream",
     "text": [
      "1 is called one\n",
      "2 is called two\n",
      "3 is called three\n",
      "4 is called four\n",
      "5 is called five\n",
      "6 is called six\n"
     ]
    }
   ],
   "source": [
    "for e1, e2 in zip(one, two):\n",
    "    print(f\"{e1} is called {e2}\")"
   ]
  },
  {
   "cell_type": "code",
   "execution_count": 53,
   "metadata": {},
   "outputs": [],
   "source": [
    "def hello(name):\n",
    "    print(\"Welcome user: \", name.upper())"
   ]
  },
  {
   "cell_type": "code",
   "execution_count": 54,
   "metadata": {},
   "outputs": [
    {
     "name": "stdout",
     "output_type": "stream",
     "text": [
      "Welcome user:  SACHIN\n"
     ]
    }
   ],
   "source": [
    "hello('sachin')"
   ]
  },
  {
   "cell_type": "code",
   "execution_count": 63,
   "metadata": {},
   "outputs": [],
   "source": [
    "def squre(num):\n",
    "    return num*num"
   ]
  },
  {
   "cell_type": "code",
   "execution_count": 64,
   "metadata": {},
   "outputs": [
    {
     "name": "stdout",
     "output_type": "stream",
     "text": [
      "25\n"
     ]
    }
   ],
   "source": [
    "r = squre(5)\n",
    "print(r)"
   ]
  },
  {
   "cell_type": "code",
   "execution_count": null,
   "metadata": {},
   "outputs": [],
   "source": []
  },
  {
   "cell_type": "code",
   "execution_count": 57,
   "metadata": {},
   "outputs": [],
   "source": [
    "def fact(number):\n",
    "    if number != 0:\n",
    "        return number * fact(number-1)\n",
    "    return 1"
   ]
  },
  {
   "cell_type": "code",
   "execution_count": 58,
   "metadata": {},
   "outputs": [],
   "source": [
    "r = fact(5)"
   ]
  },
  {
   "cell_type": "code",
   "execution_count": 59,
   "metadata": {},
   "outputs": [
    {
     "name": "stdout",
     "output_type": "stream",
     "text": [
      "120\n"
     ]
    }
   ],
   "source": [
    "print(r)"
   ]
  },
  {
   "cell_type": "code",
   "execution_count": 60,
   "metadata": {},
   "outputs": [],
   "source": [
    "class A:\n",
    "    def hello(self):\n",
    "        print(\"Hello\")"
   ]
  },
  {
   "cell_type": "code",
   "execution_count": 61,
   "metadata": {},
   "outputs": [],
   "source": [
    "a = A()"
   ]
  },
  {
   "cell_type": "code",
   "execution_count": 62,
   "metadata": {},
   "outputs": [
    {
     "name": "stdout",
     "output_type": "stream",
     "text": [
      "Hello\n"
     ]
    }
   ],
   "source": [
    "a.hello()"
   ]
  },
  {
   "cell_type": "code",
   "execution_count": 65,
   "metadata": {},
   "outputs": [],
   "source": [
    "def sq_cu(number):\n",
    "    return number**2, number**3"
   ]
  },
  {
   "cell_type": "code",
   "execution_count": 66,
   "metadata": {},
   "outputs": [],
   "source": [
    "s,c = sq_cu(5)"
   ]
  },
  {
   "cell_type": "code",
   "execution_count": 67,
   "metadata": {},
   "outputs": [
    {
     "data": {
      "text/plain": [
       "25"
      ]
     },
     "execution_count": 67,
     "metadata": {},
     "output_type": "execute_result"
    }
   ],
   "source": [
    "s"
   ]
  },
  {
   "cell_type": "code",
   "execution_count": 68,
   "metadata": {},
   "outputs": [
    {
     "data": {
      "text/plain": [
       "125"
      ]
     },
     "execution_count": 68,
     "metadata": {},
     "output_type": "execute_result"
    }
   ],
   "source": [
    "c"
   ]
  },
  {
   "cell_type": "markdown",
   "metadata": {},
   "source": [
    "lambda "
   ]
  },
  {
   "cell_type": "code",
   "execution_count": 69,
   "metadata": {},
   "outputs": [],
   "source": [
    "even = lambda num: True if num % 2 == 0 else False"
   ]
  },
  {
   "cell_type": "code",
   "execution_count": 70,
   "metadata": {},
   "outputs": [
    {
     "data": {
      "text/plain": [
       "<function __main__.<lambda>(num)>"
      ]
     },
     "execution_count": 70,
     "metadata": {},
     "output_type": "execute_result"
    }
   ],
   "source": [
    "even"
   ]
  },
  {
   "cell_type": "code",
   "execution_count": 71,
   "metadata": {},
   "outputs": [
    {
     "data": {
      "text/plain": [
       "False"
      ]
     },
     "execution_count": 71,
     "metadata": {},
     "output_type": "execute_result"
    }
   ],
   "source": [
    "even(5)"
   ]
  },
  {
   "cell_type": "code",
   "execution_count": 72,
   "metadata": {},
   "outputs": [
    {
     "data": {
      "text/plain": [
       "True"
      ]
     },
     "execution_count": 72,
     "metadata": {},
     "output_type": "execute_result"
    }
   ],
   "source": [
    "even(10)"
   ]
  },
  {
   "cell_type": "code",
   "execution_count": 73,
   "metadata": {},
   "outputs": [],
   "source": [
    "prime = lambda n, c=2: True if c > n**0.5 else False if n%c==0 else prime(n, c+1)"
   ]
  },
  {
   "cell_type": "code",
   "execution_count": 74,
   "metadata": {},
   "outputs": [
    {
     "data": {
      "text/plain": [
       "False"
      ]
     },
     "execution_count": 74,
     "metadata": {},
     "output_type": "execute_result"
    }
   ],
   "source": [
    "prime(121)"
   ]
  },
  {
   "cell_type": "code",
   "execution_count": 75,
   "metadata": {},
   "outputs": [
    {
     "data": {
      "text/plain": [
       "True"
      ]
     },
     "execution_count": 75,
     "metadata": {},
     "output_type": "execute_result"
    }
   ],
   "source": [
    "prime(127)"
   ]
  },
  {
   "cell_type": "code",
   "execution_count": 76,
   "metadata": {},
   "outputs": [],
   "source": [
    "hello = lambda : print(\"hello\")"
   ]
  },
  {
   "cell_type": "code",
   "execution_count": 77,
   "metadata": {},
   "outputs": [
    {
     "name": "stdout",
     "output_type": "stream",
     "text": [
      "hello\n"
     ]
    }
   ],
   "source": [
    "hello()"
   ]
  },
  {
   "cell_type": "code",
   "execution_count": 78,
   "metadata": {},
   "outputs": [],
   "source": [
    "hello = lambda name: print(f\"hello {name}\")"
   ]
  },
  {
   "cell_type": "code",
   "execution_count": 79,
   "metadata": {},
   "outputs": [
    {
     "name": "stdout",
     "output_type": "stream",
     "text": [
      "hello sachin yadav\n"
     ]
    }
   ],
   "source": [
    "hello(name)"
   ]
  },
  {
   "cell_type": "code",
   "execution_count": 80,
   "metadata": {},
   "outputs": [],
   "source": [
    "tb = lambda num: [ num*i for i in range(1, 11)]"
   ]
  },
  {
   "cell_type": "code",
   "execution_count": 81,
   "metadata": {},
   "outputs": [
    {
     "data": {
      "text/plain": [
       "[5, 10, 15, 20, 25, 30, 35, 40, 45, 50]"
      ]
     },
     "execution_count": 81,
     "metadata": {},
     "output_type": "execute_result"
    }
   ],
   "source": [
    "tb(5)"
   ]
  },
  {
   "cell_type": "code",
   "execution_count": 82,
   "metadata": {},
   "outputs": [],
   "source": [
    "l = [ 1, 2,3 , 123, 34, 23, 231,2 ]"
   ]
  },
  {
   "cell_type": "code",
   "execution_count": 83,
   "metadata": {},
   "outputs": [],
   "source": [
    "l.sort()"
   ]
  },
  {
   "cell_type": "code",
   "execution_count": 84,
   "metadata": {},
   "outputs": [
    {
     "data": {
      "text/plain": [
       "[1, 2, 2, 3, 23, 34, 123, 231]"
      ]
     },
     "execution_count": 84,
     "metadata": {},
     "output_type": "execute_result"
    }
   ],
   "source": [
    "l"
   ]
  },
  {
   "cell_type": "code",
   "execution_count": 85,
   "metadata": {},
   "outputs": [],
   "source": [
    "l.sort(reverse=True)"
   ]
  },
  {
   "cell_type": "code",
   "execution_count": 86,
   "metadata": {},
   "outputs": [
    {
     "data": {
      "text/plain": [
       "[231, 123, 34, 23, 3, 2, 2, 1]"
      ]
     },
     "execution_count": 86,
     "metadata": {},
     "output_type": "execute_result"
    }
   ],
   "source": [
    "l"
   ]
  },
  {
   "cell_type": "code",
   "execution_count": 87,
   "metadata": {},
   "outputs": [],
   "source": [
    "l = [\n",
    "    \n",
    "    [ 'sachin', 45],\n",
    "    [ 'rahul', 100],\n",
    "    [ 'rajat', 35],\n",
    "    [ 'nidhi', 65],\n",
    "    [ 'yahoo', 78]\n",
    "]"
   ]
  },
  {
   "cell_type": "code",
   "execution_count": 88,
   "metadata": {},
   "outputs": [],
   "source": [
    "l.sort()"
   ]
  },
  {
   "cell_type": "code",
   "execution_count": 89,
   "metadata": {},
   "outputs": [
    {
     "data": {
      "text/plain": [
       "[['nidhi', 65], ['rahul', 100], ['rajat', 35], ['sachin', 45], ['yahoo', 78]]"
      ]
     },
     "execution_count": 89,
     "metadata": {},
     "output_type": "execute_result"
    }
   ],
   "source": [
    "l"
   ]
  },
  {
   "cell_type": "code",
   "execution_count": 90,
   "metadata": {},
   "outputs": [],
   "source": [
    "l.sort(reverse=True, key=lambda x:x[1])"
   ]
  },
  {
   "cell_type": "code",
   "execution_count": 92,
   "metadata": {},
   "outputs": [
    {
     "name": "stdout",
     "output_type": "stream",
     "text": [
      "['rahul', 100]\n",
      "['yahoo', 78]\n",
      "['nidhi', 65]\n",
      "['sachin', 45]\n",
      "['rajat', 35]\n"
     ]
    }
   ],
   "source": [
    "print(*l, sep='\\n')"
   ]
  },
  {
   "cell_type": "markdown",
   "metadata": {},
   "source": [
    "Shine"
   ]
  },
  {
   "cell_type": "markdown",
   "metadata": {},
   "source": [
    "Graph --> matplotlib"
   ]
  },
  {
   "cell_type": "code",
   "execution_count": 93,
   "metadata": {},
   "outputs": [],
   "source": [
    "country = [ 'india', 'china', 'us', 'uk', 'itely']\n",
    "corona  = [ 1500, 3000, 3400, 2700, 4500]\n",
    "color   = [ 'blue', 'red', 'green', 'orange', 'cyan']"
   ]
  },
  {
   "cell_type": "code",
   "execution_count": 95,
   "metadata": {},
   "outputs": [
    {
     "data": {
      "image/png": "[encoded data removed]",
      "text/plain": [
       "<Figure size 432x288 with 1 Axes>"
      ]
     },
     "metadata": {
      "needs_background": "light"
     },
     "output_type": "display_data"
    }
   ],
   "source": [
    "import matplotlib.pyplot as plt\n",
    "plt.bar(country, corona, color=color)\n",
    "plt.show()"
   ]
  },
  {
   "cell_type": "code",
   "execution_count": 102,
   "metadata": {},
   "outputs": [
    {
     "data": {
      "image/png": "[encoded data removed]",
      "text/plain": [
       "<Figure size 360x360 with 1 Axes>"
      ]
     },
     "metadata": {},
     "output_type": "display_data"
    }
   ],
   "source": [
    "plt.figure(figsize=(5, 5))\n",
    "plt.pie(corona, labels=country, colors=color,\n",
    "       autopct=\"%d\", explode=[0.2, 0, 0, 0, 0],\n",
    "       startangle=90, counterclock=False)\n",
    "plt.show()"
   ]
  },
  {
   "cell_type": "code",
   "execution_count": 119,
   "metadata": {},
   "outputs": [],
   "source": [
    "import tkinter\n",
    "import random\n",
    "root  = tkinter.Tk()\n",
    "colors = [ 'red', 'green', 'cyan', 'magenta', 'orange', 'purple']\n",
    "lb1 = tkinter.Label(root, text=\"My Tkinter Calculater\",\n",
    "                   font=(\"monospace\", 20, 'bold'),\n",
    "                   bg=\"#eeeeee\", fg=\"cyan\")\n",
    "lb1.pack()\n",
    "\n",
    "prompt = tkinter.StringVar()\n",
    "\n",
    "entry = tkinter.Entry(root, textvariable=prompt,\n",
    "                    font=(\"monospace\", 20, 'bold'),\n",
    "                   bg=\"#eeeeee\" )\n",
    "entry.pack()\n",
    "\n",
    "def add_label():\n",
    "    ans = prompt.get() + \"=\" + str(eval(prompt.get()))\n",
    "    tmp = tkinter.Label(root, text=ans,\n",
    "                       font=(\"monospace\", 20, 'bold'),\n",
    "                   bg=\"#eeeeee\", fg=random.choice(colors))\n",
    "    tmp.pack()\n",
    "    prompt.set('')\n",
    "lb = tkinter.Button(root, text=\"!Solve Me!\",font=(\"monospace\", 20, 'bold'),\n",
    "                   bg=\"#eeeeee\", fg=\"blue\",\n",
    "                    command=add_label\n",
    "                   )\n",
    "lb.pack()\n",
    "\n",
    "eb = tkinter.Button(root, text=\"!!EXIT!!\", font=(\"monospace\", 20, 'bold'),\n",
    "                   bg=\"#eeeeee\", fg=\"red\",\n",
    "                   command=root.destroy)\n",
    "eb.pack()\n",
    "root.title(\"Calculator\")\n",
    "root.wm_minsize(400, 400)\n",
    "root.mainloop()"
   ]
  },
  {
   "cell_type": "code",
   "execution_count": null,
   "metadata": {},
   "outputs": [],
   "source": [
    "# pyinstaller ---> package --> app --> exe\n"
   ]
  },
  {
   "cell_type": "code",
   "execution_count": 116,
   "metadata": {},
   "outputs": [
    {
     "data": {
      "text/plain": [
       "0.03"
      ]
     },
     "execution_count": 116,
     "metadata": {},
     "output_type": "execute_result"
    }
   ],
   "source": [
    "eval(\"5*6/10**3\")"
   ]
  },
  {
   "cell_type": "code",
   "execution_count": 122,
   "metadata": {},
   "outputs": [
    {
     "name": "stdout",
     "output_type": "stream",
     "text": [
      "Overwriting hello.py\n"
     ]
    }
   ],
   "source": [
    "%%writefile hello.py\n",
    "print(\"Hello World\".center(100, \"_\"))\n",
    "for var in range(10, 0, -1):\n",
    "    print(\"*\"*var)"
   ]
  },
  {
   "cell_type": "code",
   "execution_count": 123,
   "metadata": {},
   "outputs": [
    {
     "name": "stdout",
     "output_type": "stream",
     "text": [
      "____________________________________________Hello World_____________________________________________\n",
      "**********\n",
      "*********\n",
      "********\n",
      "*******\n",
      "******\n",
      "*****\n",
      "****\n",
      "***\n",
      "**\n",
      "*\n"
     ]
    }
   ],
   "source": [
    "!python hello.py"
   ]
  },
  {
   "cell_type": "markdown",
   "metadata": {},
   "source": [
    "user --> sachinyadav3496\n",
    "\n",
    "https://github.com/sachinyadav3496"
   ]
  },
  {
   "cell_type": "code",
   "execution_count": 4,
   "metadata": {},
   "outputs": [
    {
     "name": "stdout",
     "output_type": "stream",
     "text": [
      "Overwriting myapp.py\n"
     ]
    }
   ],
   "source": [
    "%%writefile myapp.py\n",
    "import flask\n",
    "import time\n",
    "\n",
    "app = flask.Flask(__name__)\n",
    "\n",
    "@app.route(\"/\")\n",
    "def index():\n",
    "    return f\"<h1 style='color:red'>Welcome to First Flask Powered Web Page {time.ctime()}</h1>\"\n",
    "@app.route(\"/hello/<string:name>\")\n",
    "def hello(name):\n",
    "    return f\"<h1>Welcome user <b>{name.upper()}</b><h1>\"\n",
    "\n",
    "app.run('localhost', 5000)\n",
    "\n"
   ]
  },
  {
   "cell_type": "code",
   "execution_count": null,
   "metadata": {},
   "outputs": [],
   "source": [
    "!myapp.py"
   ]
  },
  {
   "cell_type": "code",
   "execution_count": 2,
   "metadata": {},
   "outputs": [
    {
     "data": {
      "text/plain": [
       "'C:\\\\Users\\\\sachin\\\\Desktop\\\\python_Webinar'"
      ]
     },
     "execution_count": 2,
     "metadata": {},
     "output_type": "execute_result"
    }
   ],
   "source": [
    "pwd"
   ]
  },
  {
   "cell_type": "markdown",
   "metadata": {},
   "source": [
    "youtube link\n",
    "https://www.youtube.com/watch?v=M5ILgNI0iXw&t=272s"
   ]
  },
  {
   "cell_type": "code",
   "execution_count": null,
   "metadata": {},
   "outputs": [],
   "source": []
  }
 ],
 "metadata": {
  "kernelspec": {
   "display_name": "Python 3",
   "language": "python",
   "name": "python3"
  },
  "language_info": {
   "codemirror_mode": {
    "name": "ipython",
    "version": 3
   },
   "file_extension": ".py",
   "mimetype": "text/x-python",
   "name": "python",
   "nbconvert_exporter": "python",
   "pygments_lexer": "ipython3",
   "version": "3.7.4"
  }
 },
 "nbformat": 4,
 "nbformat_minor": 2
}
